{
  "nbformat": 4,
  "nbformat_minor": 0,
  "metadata": {
    "colab": {
      "provenance": [],
      "authorship_tag": "ABX9TyM1dfGcchojmpHRjz0NW+H3",
      "include_colab_link": true
    },
    "kernelspec": {
      "name": "python3",
      "display_name": "Python 3"
    },
    "language_info": {
      "name": "python"
    }
  },
  "cells": [
    {
      "cell_type": "markdown",
      "metadata": {
        "id": "view-in-github",
        "colab_type": "text"
      },
      "source": [
        "<a href=\"https://colab.research.google.com/github/bastian5/spellingbee/blob/main/spellingbee.ipynb\" target=\"_parent\"><img src=\"https://colab.research.google.com/assets/colab-badge.svg\" alt=\"Open In Colab\"/></a>"
      ]
    },
    {
      "cell_type": "code",
      "execution_count": null,
      "metadata": {
        "id": "9nAApAdt70Gp"
      },
      "outputs": [],
      "source": [
        "import random\n",
        "\n",
        "letters = []\n",
        "\n",
        "for n in range(5, 15):\n",
        "  word = []\n",
        "  for i in range(n):\n",
        "    word = random.choices(letters, k=n)\n",
        "    word[random(0, len(word))] = letters[0]\n",
        "    while \"\".join(word)"
      ]
    }
  ]
}